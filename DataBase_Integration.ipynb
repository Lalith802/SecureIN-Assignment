{
 "cells": [
  {
   "cell_type": "code",
   "execution_count": null,
   "id": "9efa8b09",
   "metadata": {},
   "outputs": [
    {
     "name": "stdout",
     "output_type": "stream",
     "text": [
      " Successfully inserted 8451 recipes into MySQL!\n"
     ]
    }
   ],
   "source": [
    "import json\n",
    "import pandas as pd\n",
    "import mysql.connector\n",
    "import numpy as np\n",
    "\n",
    "def safe_convert(value, convert_func):\n",
    "    try:\n",
    "        if pd.isna(value) or value is None:\n",
    "            return None\n",
    "        return convert_func(value)\n",
    "    except:\n",
    "        return None\n",
    "\n",
    "with open('/Users/lalithkrishna/Documents/Programming and More/SECUREIN/US_recipes_null.json', 'r', encoding='utf-8') as file:\n",
    "    data = json.load(file)\n",
    "recipes = list(data.values())\n",
    "df = pd.DataFrame(recipes)\n",
    "df = df.replace([np.nan, pd.NA], [None, None])\n",
    "\n",
    "connection = mysql.connector.connect(\n",
    "    host=\"localhost\",\n",
    "    user=\"root\",             \n",
    "    password=\"root\",\n",
    "    database=\"recipes_db\"    \n",
    ")\n",
    "cursor = connection.cursor()\n",
    "insert_query = \"\"\"\n",
    "INSERT INTO recipes (\n",
    "    cuisine, title, rating, prep_time, cook_time,\n",
    "    total_time, description, nutrients, serves\n",
    ")\n",
    "VALUES (%s, %s, %s, %s, %s, %s, %s, %s, %s)\n",
    "\"\"\"\n",
    "inserted_count = 0\n",
    "for _, row in df.iterrows():\n",
    "    try:\n",
    "        rating = safe_convert(row.get('rating'), float)\n",
    "        prep_time = safe_convert(row.get('prep_time'), int)\n",
    "        cook_time = safe_convert(row.get('cook_time'), int)\n",
    "        total_time = safe_convert(row.get('total_time'), int)\n",
    "        nutrients = row.get('nutrients')\n",
    "        if pd.isna(nutrients) or nutrients is None:\n",
    "            nutrients_json = None\n",
    "        else:\n",
    "            nutrients_json = json.dumps(nutrients)\n",
    "        cursor.execute(insert_query, (\n",
    "            row.get('cuisine'),\n",
    "            row.get('title'),\n",
    "            rating,\n",
    "            prep_time,\n",
    "            cook_time,\n",
    "            total_time,\n",
    "            row.get('description'),\n",
    "            nutrients_json,\n",
    "            row.get('serves')\n",
    "        ))\n",
    "        inserted_count += 1\n",
    "    except Exception as e:\n",
    "        print(f\"Skipping record due to error: {e}\")\n",
    "connection.commit()\n",
    "cursor.close()\n",
    "connection.close()\n",
    "print(f\" Successfully inserted {inserted_count} recipes into MySQL!\")"
   ]
  }
 ],
 "metadata": {
  "kernelspec": {
   "display_name": "Python 3",
   "language": "python",
   "name": "python3"
  },
  "language_info": {
   "codemirror_mode": {
    "name": "ipython",
    "version": 3
   },
   "file_extension": ".py",
   "mimetype": "text/x-python",
   "name": "python",
   "nbconvert_exporter": "python",
   "pygments_lexer": "ipython3",
   "version": "3.13.2"
  }
 },
 "nbformat": 4,
 "nbformat_minor": 5
}
